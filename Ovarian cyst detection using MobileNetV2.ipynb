{
 "cells": [
  {
   "cell_type": "markdown",
   "id": "1a394eab",
   "metadata": {},
   "source": [
    "# Ovarian Cyst Detection using MobileNetV2"
   ]
  },
  {
   "cell_type": "code",
   "execution_count": null,
   "id": "99dae6c9",
   "metadata": {
    "scrolled": false
   },
   "outputs": [],
   "source": [
    "import numpy as np\n",
    "import pandas as pd\n",
    "import matplotlib.pyplot as pt\n",
    "from matplotlib import style"
   ]
  },
  {
   "cell_type": "code",
   "execution_count": null,
   "id": "82e6d8b6",
   "metadata": {
    "scrolled": false
   },
   "outputs": [],
   "source": [
    "import seaborn as s\n",
    "%matplotlib inline\n",
    "style.use('fivethirtyeight')\n",
    "s.set(style='darkgrid',color_codes=True)"
   ]
  },
  {
   "cell_type": "code",
   "execution_count": null,
   "id": "6bccd429",
   "metadata": {
    "scrolled": true
   },
   "outputs": [],
   "source": [
    "from keras.preprocessing.image import ImageDataGenerator\n",
    "from keras.applications import MobileNetV2\n",
    "from keras.layers import GlobalAveragePooling2D\n",
    "from keras.models import Sequential,Model\n",
    "from keras.layers import Dense\n",
    "from keras.layers import Dropout\n",
    "from keras.layers import Activation\n",
    "from keras.layers import Flatten\n",
    "from keras.layers import Conv2D\n",
    "from keras.layers import MaxPooling2D\n",
    "from keras.layers import BatchNormalization\n",
    "from keras.optimizers import Adam,SGD\n",
    "from keras.utils import to_categorical"
   ]
  },
  {
   "cell_type": "code",
   "execution_count": null,
   "id": "d9a0cdee",
   "metadata": {
    "scrolled": false
   },
   "outputs": [],
   "source": [
    "from sklearn.model_selection import train_test_split\n",
    "from sklearn.model_selection import KFold\n",
    "from sklearn.model_selection import GridSearchCV\n",
    "from sklearn.metrics import accuracy_score\n",
    "from sklearn.metrics import precision_score\n",
    "from sklearn.metrics import recall_score\n",
    "from sklearn.metrics import confusion_matrix\n",
    "from sklearn.metrics import roc_curve\n",
    "from sklearn.metrics import roc_auc_score\n",
    "from sklearn.preprocessing import LabelEncoder"
   ]
  },
  {
   "cell_type": "code",
   "execution_count": null,
   "id": "636f02c8",
   "metadata": {
    "scrolled": false
   },
   "outputs": [],
   "source": [
    "import re\n",
    "import shutil\n",
    "import skfuzzy as f\n",
    "from skfuzzy import control as crl\n",
    "import warnings\n",
    "import os\n",
    "import tensorflow as tf\n",
    "import random as rn\n",
    "import cv2\n",
    "from tqdm import tqdm\n",
    "from random import shuffle  \n",
    "from zipfile import ZipFile\n",
    "from PIL import Image, ImageFilter"
   ]
  },
  {
   "cell_type": "code",
   "execution_count": null,
   "id": "f5c9646a",
   "metadata": {
    "scrolled": false
   },
   "outputs": [],
   "source": [
    "warnings.filterwarnings('always')\n",
    "warnings.filterwarnings('ignore')"
   ]
  },
  {
   "cell_type": "code",
   "execution_count": null,
   "id": "403b3c6f",
   "metadata": {
    "scrolled": false
   },
   "outputs": [],
   "source": [
    "import os\n",
    "print(os.listdir('med1'))"
   ]
  },
  {
   "cell_type": "markdown",
   "id": "ff457603",
   "metadata": {},
   "source": [
    "## Feature Extraction"
   ]
  },
  {
   "cell_type": "code",
   "execution_count": null,
   "id": "b8a17e79",
   "metadata": {
    "scrolled": false
   },
   "outputs": [],
   "source": [
    "X=[]\n",
    "W=[]\n",
    "imagesize=140"
   ]
  },
  {
   "cell_type": "code",
   "execution_count": null,
   "id": "e366c216",
   "metadata": {
    "scrolled": false
   },
   "outputs": [],
   "source": [
    "CYST_CHOCOLATE='med1/chocolate cyst'\n",
    "CYST_CYSTADENOMA='med1/cystadenoma cyst'\n",
    "CYST_DERMOID='med1/dermoid cyst'\n",
    "CYST_PELVIC='med1/pelvic infection'\n",
    "CYST_NORMAL='med1/normal cyst'\n",
    "CYST_FOLLICULAR='med1/follicular cyst'\n",
    "CYST_POLYCYSTIC='med1/polycystic ovaries'\n",
    "CYST_CANCER='med1/cancer cyst'"
   ]
  },
  {
   "cell_type": "code",
   "execution_count": null,
   "id": "7705e502",
   "metadata": {
    "scrolled": false
   },
   "outputs": [],
   "source": [
    "def providelabel(img,cysttype):\n",
    "     return cysttype     "
   ]
  },
  {
   "cell_type": "code",
   "execution_count": null,
   "id": "53e9f09a",
   "metadata": {
    "scrolled": false
   },
   "outputs": [],
   "source": [
    "def traindata(cysttype,DIR):\n",
    "    for img in tqdm(os.listdir(DIR)):\n",
    "        label=providelabel(img,cysttype)\n",
    "        path=os.path.join(DIR,img)\n",
    "        img=cv2.imread(path,cv2.IMREAD_COLOR)\n",
    "        img=cv2.resize(img, (imagesize,imagesize))\n",
    "        \n",
    "        X.append(np.array(img))\n",
    "        W.append(str(label))"
   ]
  },
  {
   "cell_type": "code",
   "execution_count": null,
   "id": "f9eec501",
   "metadata": {
    "scrolled": false
   },
   "outputs": [],
   "source": [
    "traindata('chocolate cyst',CYST_CHOCOLATE)"
   ]
  },
  {
   "cell_type": "code",
   "execution_count": null,
   "id": "3fa6c09d",
   "metadata": {
    "scrolled": false
   },
   "outputs": [],
   "source": [
    "print(len(X))"
   ]
  },
  {
   "cell_type": "code",
   "execution_count": null,
   "id": "efa9814a",
   "metadata": {
    "scrolled": false
   },
   "outputs": [],
   "source": [
    "traindata('cystadenoma cyst',CYST_CYSTADENOMA)"
   ]
  },
  {
   "cell_type": "code",
   "execution_count": null,
   "id": "9c52daf9",
   "metadata": {
    "scrolled": false
   },
   "outputs": [],
   "source": [
    "print(len(X))"
   ]
  },
  {
   "cell_type": "code",
   "execution_count": null,
   "id": "08a7ab95",
   "metadata": {
    "scrolled": false
   },
   "outputs": [],
   "source": [
    "traindata('dermoid cyst',CYST_DERMOID)"
   ]
  },
  {
   "cell_type": "code",
   "execution_count": null,
   "id": "d877e432",
   "metadata": {
    "scrolled": false
   },
   "outputs": [],
   "source": [
    "print(len(X))"
   ]
  },
  {
   "cell_type": "code",
   "execution_count": null,
   "id": "23aefabf",
   "metadata": {
    "scrolled": false
   },
   "outputs": [],
   "source": [
    "traindata('pelvic infection',CYST_PELVIC)"
   ]
  },
  {
   "cell_type": "code",
   "execution_count": null,
   "id": "cd01bdd4",
   "metadata": {
    "scrolled": false
   },
   "outputs": [],
   "source": [
    "print(len(X))"
   ]
  },
  {
   "cell_type": "code",
   "execution_count": null,
   "id": "1cd27fb5",
   "metadata": {
    "scrolled": false
   },
   "outputs": [],
   "source": [
    "traindata('normal cyst',CYST_NORMAL)"
   ]
  },
  {
   "cell_type": "code",
   "execution_count": null,
   "id": "8412e2ec",
   "metadata": {
    "scrolled": false
   },
   "outputs": [],
   "source": [
    "print(len(X))"
   ]
  },
  {
   "cell_type": "code",
   "execution_count": null,
   "id": "f2dd4134",
   "metadata": {
    "scrolled": false
   },
   "outputs": [],
   "source": [
    "traindata('cancer cyst',CYST_CANCER)"
   ]
  },
  {
   "cell_type": "code",
   "execution_count": null,
   "id": "1fa8d341",
   "metadata": {
    "scrolled": false
   },
   "outputs": [],
   "source": [
    "print(len(X))"
   ]
  },
  {
   "cell_type": "code",
   "execution_count": null,
   "id": "b48f07de",
   "metadata": {
    "scrolled": false
   },
   "outputs": [],
   "source": [
    "traindata('follicular cyst',CYST_FOLLICULAR)"
   ]
  },
  {
   "cell_type": "code",
   "execution_count": null,
   "id": "6bc2b02a",
   "metadata": {
    "scrolled": false
   },
   "outputs": [],
   "source": [
    "print(len(X))"
   ]
  },
  {
   "cell_type": "code",
   "execution_count": null,
   "id": "3ab10773",
   "metadata": {
    "scrolled": false
   },
   "outputs": [],
   "source": [
    "traindata('polycystic ovaries',CYST_POLYCYSTIC)"
   ]
  },
  {
   "cell_type": "code",
   "execution_count": null,
   "id": "bd63714a",
   "metadata": {
    "scrolled": false
   },
   "outputs": [],
   "source": [
    "print(len(X))"
   ]
  },
  {
   "cell_type": "code",
   "execution_count": null,
   "id": "46ca0aa9",
   "metadata": {
    "scrolled": false
   },
   "outputs": [],
   "source": [
    "folders=['med1/cancer cyst','med1/chocolate cyst', 'med1/cystadenoma cyst', 'med1/dermoid cyst', 'med1/pelvic infection','med1/follicular cyst','med1/normal cyst','med1/polycystic ovaries']\n",
    "figure, axis=pt.subplots(8, 2, figsize=(20, 20))\n",
    "\n",
    "for i, d in enumerate(folders):\n",
    "    file=os.listdir(d)\n",
    "    selectpic=[file[0],file[9]]\n",
    "    \n",
    "    for j, ifile in enumerate(selectpic):\n",
    "        path=os.path.join(d, ifile)\n",
    "        image=cv2.imread(path)\n",
    "        image=cv2.cvtColor(image, cv2.COLOR_BGR2RGB)\n",
    "        axis[i, j].imshow(image)\n",
    "        axis[i, j].set_title(f'Folder: {folders[i]}\\nImage: {ifile}')\n",
    "        axis[i, j].axis('off')\n",
    "\n",
    "pt.tight_layout()\n",
    "pt.show()\n"
   ]
  },
  {
   "cell_type": "code",
   "execution_count": null,
   "id": "4c39ab96",
   "metadata": {
    "scrolled": true
   },
   "outputs": [],
   "source": [
    "le=LabelEncoder()\n",
    "Y=le.fit_transform(W)\n",
    "Y=to_categorical(Y,8)\n",
    "X=np.array(X)\n",
    "X=X/255"
   ]
  },
  {
   "cell_type": "markdown",
   "id": "a59ffb93",
   "metadata": {},
   "source": [
    "## Cross Validation"
   ]
  },
  {
   "cell_type": "code",
   "execution_count": null,
   "id": "6d8a7b16",
   "metadata": {
    "scrolled": false
   },
   "outputs": [],
   "source": [
    "x_train,x_test,y_train,y_test=train_test_split(X,Y,test_size=0.25,random_state=42)"
   ]
  },
  {
   "cell_type": "code",
   "execution_count": null,
   "id": "6206d25c",
   "metadata": {
    "scrolled": false
   },
   "outputs": [],
   "source": [
    "np.random.seed(42)\n",
    "rn.seed(42)\n"
   ]
  },
  {
   "cell_type": "code",
   "execution_count": null,
   "id": "524927f9",
   "metadata": {
    "scrolled": false
   },
   "outputs": [],
   "source": [
    "folder=\"med1/cancer cyst\"\n",
    "\n",
    "t=\"slno. length width shape intensity\"\n",
    "names=os.listdir(folder)\n",
    "\n",
    "for index, n in enumerate(names, start=1):\n",
    "    match=re.match(r'(\\d+),(\\d+),(\\d+),(\\d+)', n)\n",
    "    \n",
    "    if match:\n",
    "        length, width, shape, intensity = match.groups()\n",
    "        row=f\"\\n{index:<6}{length: <8} {width: <8} {shape: <7} {intensity: <6}\"\n",
    "        t+= row\n",
    "        \n",
    "print(t)"
   ]
  },
  {
   "cell_type": "code",
   "execution_count": null,
   "id": "0485222e",
   "metadata": {
    "scrolled": false
   },
   "outputs": [],
   "source": [
    "folder=\"med1/chocolate cyst\"\n",
    "\n",
    "t=\"slno. length width shape intensity\"\n",
    "names=os.listdir(folder)\n",
    "\n",
    "for index, n in enumerate(names, start=1):\n",
    "    match=re.match(r'(\\d+),(\\d+),(\\d+),(\\d+)', n)\n",
    "    \n",
    "    if match:\n",
    "        length, width, shape, intensity = match.groups()\n",
    "        row=f\"\\n{index:<6}{length: <8} {width: <8} {shape: <7} {intensity: <6}\"\n",
    "        t+= row\n",
    "        \n",
    "print(t)"
   ]
  },
  {
   "cell_type": "code",
   "execution_count": null,
   "id": "a38ef0ac",
   "metadata": {
    "scrolled": false
   },
   "outputs": [],
   "source": [
    "folder=\"med1/cystadenoma cyst\"\n",
    "\n",
    "t=\"slno. length width shape intensity\"\n",
    "names=os.listdir(folder)\n",
    "\n",
    "for index, n in enumerate(names, start=1):\n",
    "    match=re.match(r'(\\d+),(\\d+),(\\d+),(\\d+)', n)\n",
    "    \n",
    "    if match:\n",
    "        length, width, shape, intensity = match.groups()\n",
    "        row=f\"\\n{index:<6}{length: <8} {width: <8} {shape: <7} {intensity: <6}\"\n",
    "        t+=row\n",
    "        \n",
    "print(t)"
   ]
  },
  {
   "cell_type": "code",
   "execution_count": null,
   "id": "057b9f16",
   "metadata": {
    "scrolled": false
   },
   "outputs": [],
   "source": [
    "folder=\"med1/dermoid cyst\"\n",
    "\n",
    "t=\"slno. length width shape intensity\"\n",
    "names = os.listdir(folder)\n",
    "\n",
    "for index, n in enumerate(names, start=1):\n",
    "    match = re.match(r'(\\d+),(\\d+),(\\d+),(\\d+)', n)\n",
    "    \n",
    "    if match:\n",
    "        length, width, shape, intensity = match.groups()\n",
    "        row=f\"\\n{index:<6}{length: <8} {width: <8} {shape: <7} {intensity: <6}\"\n",
    "        t+=row\n",
    "        \n",
    "print(t)"
   ]
  },
  {
   "cell_type": "code",
   "execution_count": null,
   "id": "eb104d2f",
   "metadata": {
    "scrolled": false
   },
   "outputs": [],
   "source": [
    "folder=\"med1/follicular cyst\"\n",
    "\n",
    "t=\"slno. length width shape intensity\"\n",
    "names = os.listdir(folder)\n",
    "\n",
    "for index, n in enumerate(names, start=1):\n",
    "    match=re.match(r'(\\d+),(\\d+),(\\d+),(\\d+)', n)\n",
    "    \n",
    "    if match:\n",
    "        length, width, shape, intensity=match.groups()\n",
    "        row=f\"\\n{index:<6}{length: <8} {width: <8} {shape: <7} {intensity: <6}\"\n",
    "        t+= row\n",
    "        \n",
    "print(t)"
   ]
  },
  {
   "cell_type": "code",
   "execution_count": null,
   "id": "1746ee1c",
   "metadata": {
    "scrolled": false
   },
   "outputs": [],
   "source": [
    "folder=\"med1/normal cyst\"\n",
    "\n",
    "t=\"slno. length width shape intensity\"\n",
    "names=os.listdir(folder)\n",
    "\n",
    "for index, n in enumerate(names, start=1):\n",
    "    match=re.match(r'(\\d+),(\\d+),(\\d+),(\\d+)', n)\n",
    "    \n",
    "    if match:\n",
    "        length, width, shape, intensity = match.groups()\n",
    "        row=f\"\\n{index:<6}{length: <8} {width: <8} {shape: <7} {intensity: <6}\"\n",
    "        t+=row\n",
    "        \n",
    "print(t)"
   ]
  },
  {
   "cell_type": "code",
   "execution_count": null,
   "id": "b5eede6e",
   "metadata": {
    "scrolled": false
   },
   "outputs": [],
   "source": [
    "folder=\"med1/pelvic infection\"\n",
    "\n",
    "t=\"slno. length width shape intensity\"\n",
    "names=os.listdir(folder)\n",
    "\n",
    "for index, n in enumerate(names, start=1):\n",
    "    match=re.match(r'(\\d+),(\\d+),(\\d+),(\\d+)', n)\n",
    "    \n",
    "    if match:\n",
    "        length, width, shape, intensity = match.groups()\n",
    "        row=f\"\\n{index:<6}{length: <8} {width: <8} {shape: <7} {intensity: <6}\"\n",
    "        t+=row\n",
    "        \n",
    "print(t)"
   ]
  },
  {
   "cell_type": "code",
   "execution_count": null,
   "id": "f96bbac4",
   "metadata": {
    "scrolled": false
   },
   "outputs": [],
   "source": [
    "folder=\"med1/polycystic ovaries\"\n",
    "\n",
    "t=\"slno. length width shape intensity\"\n",
    "names=os.listdir(folder)\n",
    "\n",
    "for index, n in enumerate(names, start=1):\n",
    "    match=re.match(r'(\\d+),(\\d+),(\\d+),(\\d+)', n)\n",
    "    \n",
    "    if match:\n",
    "        length, width, shape, intensity = match.groups()\n",
    "        row=f\"\\n{index:<6}{length: <8} {width: <8} {shape: <7} {intensity: <6}\"\n",
    "        t+=row\n",
    "        \n",
    "print(t)"
   ]
  },
  {
   "cell_type": "markdown",
   "id": "7d284afe",
   "metadata": {},
   "source": [
    "## Synthetic Image Generation"
   ]
  },
  {
   "cell_type": "code",
   "execution_count": null,
   "id": "d281ce1e",
   "metadata": {
    "scrolled": false
   },
   "outputs": [],
   "source": [
    "def addfilter(arr, clr):\n",
    "    colorarr=arr*clr\n",
    "    return np.clip(colorarr, 0, 255).astype(np.uint8)\n",
    "\n",
    "def addnoise(arr, noislevel):\n",
    "    n1=np.random.normal(0, noislevel, arr.shape).astype(np.uint8)\n",
    "    return np.clip(arr + n1, 0, 255).astype(np.uint8)\n",
    "\n",
    "def displaysyntheticimages(folderpath):\n",
    "    names=os.listdir(folderpath)[:15:4]\n",
    "    row=3\n",
    "\n",
    "    for iname in names:\n",
    "        spath=os.path.join(folderpath, iname)\n",
    "        si=Image.open(spath)\n",
    "        sarr=np.array(si)\n",
    "        pref=os.path.splitext(os.path.basename(iname))[0]\n",
    "        for i in range(6):\n",
    "            cfilters=[(1.0, 0.0, 0.0),(0.0, 1.0, 0.0), (1.0,1.0,1.0),(0.0, 1.0, 1.0),  (1.0, 1.0, 0.0),]\n",
    "            noise_levels=[1, 2, 2]\n",
    "\n",
    "            cofitr=cfilters[i % len(cfilters)]\n",
    "            noislevel=noise_levels[i % len(noise_levels)]\n",
    "            ci=addfilter(sarr, cofitr)\n",
    "\n",
    "            # Add noise to the colored image\n",
    "            noisy_image=addnoise(ci, noislevel)\n",
    "            if i%row==0:\n",
    "                pt.figure(figsize=(15, 5))\n",
    "                \n",
    "            pt.subplot(1, row, i % row + 1)\n",
    "            pt.imshow(noisy_image)\n",
    "            pt.title(f\"Synthetic Image {i + 1} for {pref}\")\n",
    "            pt.axis('off')\n",
    "            if (i + 1) % row==0:\n",
    "                pt.tight_layout()\n",
    "                pt.show()\n",
    "\n",
    "if __name__ == '__main__':\n",
    "    print(\"\\n Cancer Cyst\")\n",
    "    folderpath = 'med1/Cancer cyst'\n",
    "    displaysyntheticimages(folderpath)\n",
    "    print(\"\\n Chocolate Cyst\")\n",
    "    folderpath= 'med1/Chocolate cyst'\n",
    "    displaysyntheticimages(folderpath)\n",
    "    print(\"\\n Cystadenoma Cyst\")\n",
    "    folderpath= 'med1/Cystadenoma cyst'\n",
    "    displaysyntheticimages(folderpath)\n",
    "    print(\"\\n dermoid Cyst\")\n",
    "    folderpath= 'med1/dermoid cyst'\n",
    "    displaysyntheticimages(folderpath)\n",
    "    print(\"\\n Follicular Cyst\")\n",
    "    folderpath= 'med1/follicular cyst'\n",
    "    displaysyntheticimages(folderpath)\n",
    "    print(\"\\n Normal Cyst\")\n",
    "    folderpath= 'med1/normal cyst'\n",
    "    displaysyntheticimages(folderpath)\n",
    "    print(\"\\n Pelvic Infection\")\n",
    "    folderpath= 'med1/pelvic infection'\n",
    "    displaysyntheticimages(folderpath)\n",
    "    print(\"\\n Polycystic Ovaries\")\n",
    "    folderpath= 'med1/polycystic ovaries'\n",
    "    displaysyntheticimages(folderpath)\n",
    "    "
   ]
  },
  {
   "cell_type": "markdown",
   "id": "ada848d1",
   "metadata": {},
   "source": [
    "## Model Evaluation"
   ]
  },
  {
   "cell_type": "code",
   "execution_count": null,
   "id": "91030edd",
   "metadata": {},
   "outputs": [],
   "source": [
    "import re\n",
    "import skfuzzy as f\n",
    "\n",
    "lengt=crl.Antecedent(np.arange(0, 12, 1), 'length')\n",
    "widt=crl.Antecedent(np.arange(0, 12, 1), 'width')\n",
    "shap=crl.Antecedent(np.arange(0, 12, 1), 'shape')\n",
    "inten=crl.Antecedent(np.arange(0, 12, 1), 'intensity')\n",
    "occurrence = crl.Consequent(np.arange(0, 101, 1), 'occurrence')\n",
    "\n",
    "\n",
    "lengt['Lower']=f.trimf(lengt.universe, [0, 0, 4])\n",
    "lengt['Average']=f.trimf(lengt.universe, [0, 4, 10])\n",
    "lengt['Higher']=f.trimf(lengt.universe, [4, 10, 10])\n",
    "\n",
    "widt['Smaller']=f.trimf(widt.universe, [0, 0, 4])\n",
    "widt['Medium']=f.trimf(widt.universe, [0, 5, 9])\n",
    "widt['Bigger']=f.trimf(widt.universe, [4, 9, 9])\n",
    "\n",
    "shap['Normal']=f.trimf(shap.universe, [0, 0, 4])\n",
    "shap['Enlarged']=f.trimf(shap.universe, [0, 4, 10])\n",
    "shap['Shrunk']=f.trimf(shap.universe, [4, 9, 10])\n",
    "\n",
    "inten['Low']=f.trimf(inten.universe, [0, 0, 4])\n",
    "inten['Medium']=f.trimf(inten.universe, [0, 4, 10])\n",
    "inten['High']=f.trimf(inten.universe, [4, 4, 10])\n",
    "\n",
    "\n",
    "occurrence['Less chance']=f.trimf(occurrence.universe, [0, 0, 50])\n",
    "occurrence['Medium chance']=f.trimf(occurrence.universe, [0, 50, 100])\n",
    "occurrence['More chance']=f.trimf(occurrence.universe, [50, 100, 100])\n",
    "\n"
   ]
  },
  {
   "cell_type": "code",
   "execution_count": null,
   "id": "566d8c76",
   "metadata": {
    "scrolled": false
   },
   "outputs": [],
   "source": [
    "\n",
    "i=(140,140,3)\n",
    "f=False\n",
    "base = MobileNetV2(weights='imagenet', include_top=f, input_shape=i)\n",
    "\n",
    "for l in base.layers:\n",
    "    l.trainable=f\n",
    "    \n",
    "model=Sequential()\n",
    "model.add(base)\n",
    "model.add(GlobalAveragePooling2D())\n",
    "model.add(Dense(512, activation='relu'))\n",
    "model.add(Dense(8, activation='softmax'))"
   ]
  },
  {
   "cell_type": "code",
   "execution_count": null,
   "id": "5b8ff751",
   "metadata": {
    "scrolled": true
   },
   "outputs": [],
   "source": [
    "model.compile(optimizer='adam', loss='categorical_crossentropy', metrics=['accuracy'])"
   ]
  },
  {
   "cell_type": "code",
   "execution_count": null,
   "id": "42ce1f87",
   "metadata": {
    "scrolled": true
   },
   "outputs": [],
   "source": [
    "model.summary()"
   ]
  },
  {
   "cell_type": "code",
   "execution_count": null,
   "id": "2153161b",
   "metadata": {
    "scrolled": false
   },
   "outputs": [],
   "source": [
    "#Fuzzy Rules\n",
    "condition1=crl.Rule(lengt['Lower'] & widt['Smaller'] & shap['Normal'] & inten['Low'], occurrence['Less chance'])\n",
    "condition2=crl.Rule(lengt['Average'] & widt['Medium'] & shap['Enlarged'] & inten['Medium'], occurrence['Medium chance'])\n",
    "condition3=crl.Rule(lengt['Higher'] & widt['Smaller'] & shap['Shrunk'] & inten['High'], occurrence['More chance'])\n",
    "condition4=crl.Rule(lengt['Lower'] & widt['Smaller'] & shap['Normal'] & inten['Low'], occurrence['Less chance'])\n",
    "condition5=crl.Rule(lengt['Lower'] & widt['Medium'] & shap['Normal'] & inten['Low'], occurrence['Less chance'])\n",
    "condition6=crl.Rule(lengt['Average'] & widt['Medium'] & shap['Enlarged'] & inten['Medium'], occurrence['Medium chance'])\n",
    "condition7=crl.Rule(lengt['Average'] & widt['Bigger'] & shap['Enlarged'] & inten['Medium'], occurrence['Medium chance'])\n",
    "condition8=crl.Rule(lengt['Average'] & widt['Bigger'] & shap['Shrunk'] & inten['High'], occurrence['More chance'])\n",
    "condition9=crl.Rule(lengt['Higher'] & widt['Medium'] & shap['Shrunk'] & inten['High'], occurrence['More chance'])\n",
    "condition10=crl.Rule(lengt['Higher'] & widt['Bigger'] & shap['Normal'] & inten['High'], occurrence['More chance'])\n",
    "condition11=crl.Rule(lengt['Higher'] & widt['Smaller'] & shap['Shrunk'] & inten['Low'], occurrence['Medium chance'])\n",
    "occ_ctrl=crl.ControlSystem([condition1, condition2, condition3, condition4, condition5, condition6, condition7, condition8, condition9, condition10, condition11])\n",
    "occ_simulation=crl.ControlSystemSimulation(occ_ctrl)\n"
   ]
  },
  {
   "cell_type": "code",
   "execution_count": null,
   "id": "7497821d",
   "metadata": {
    "scrolled": true
   },
   "outputs": [],
   "source": [
    "cyst_folder=\"med1\\chocolate cyst\"\n",
    "print(\"\\n Chocolate Cyst\")\n",
    "names=os.listdir(cyst_folder)\n",
    "\n",
    "for n in names:\n",
    "   \n",
    "    match=re.match(r'(\\d+),(\\d+),(\\d+),(\\d+)', n)\n",
    "    if match:\n",
    "        lengthvalue, widthvalue, shapevalue, intensityvalue=map(float, match.groups())\n",
    "        \n",
    "        # Set input values\n",
    "        occ_simulation.input['length']=lengthvalue\n",
    "        occ_simulation.input['width']=widthvalue\n",
    "        occ_simulation.input['shape']=shapevalue\n",
    "        occ_simulation.input['intensity']=intensityvalue\n",
    "        occ_simulation.compute()\n",
    "        occ_prediction = occ_simulation.output['occurrence']\n",
    "\n",
    "        if occ_prediction <=40:\n",
    "            print(f\"\\nFuzzy Inference Result for {n}\")\n",
    "            print(\"Predicted Occurrence: Less chance\")\n",
    "\n",
    "        elif occ_prediction <= 70:\n",
    "            print(f\"\\nFuzzy Inference Result for {n}\")\n",
    "            print(\"Predicted Occurrence: Medium chance\")\n",
    "\n",
    "        else:\n",
    "            print(f\"\\nFuzzy Inference Result for {n}\")\n",
    "            print(\"Predicted Occurrence: More chance\")\n",
    "\n",
    "        \n",
    "        occurrence.view(sim=occ_simulation)\n",
    "    else:\n",
    "        print(f\"wrong format for {n}.\")\n",
    "\n",
    "        \n",
    "        \n"
   ]
  },
  {
   "cell_type": "code",
   "execution_count": null,
   "id": "e79f7b78",
   "metadata": {},
   "outputs": [],
   "source": [
    "cyst_folder=\"med1\\Cancer cyst\"\n",
    "print(\"\\n Cancer Cyst\")\n",
    "names=os.listdir(cyst_folder)\n",
    "\n",
    "for n in names:\n",
    "   \n",
    "    match = re.match(r'(\\d+),(\\d+),(\\d+),(\\d+)', n)\n",
    "    if match:\n",
    "        lengthvalue, widthvalue, shapevalue, intensityvalue=map(float, match.groups())\n",
    "        \n",
    "        # Set input values\n",
    "        occ_simulation.input['length'] = lengthvalue\n",
    "        occ_simulation.input['width'] = widthvalue\n",
    "        occ_simulation.input['shape'] = shapevalue\n",
    "        occ_simulation.input['intensity'] = intensityvalue\n",
    "        occ_simulation.compute()\n",
    "        occ_prediction = occ_simulation.output['occurrence']\n",
    "\n",
    "        if occ_prediction <=40:\n",
    "            print(f\"\\nFuzzy Inference Result for {n}\")\n",
    "            print(\"Predicted Occurrence: Less chance\")\n",
    "\n",
    "        elif occ_prediction <= 70:\n",
    "            print(f\"\\nFuzzy Inference Result for {n}\")\n",
    "            print(\"Predicted Occurrence: Medium chance\")\n",
    "\n",
    "        else:\n",
    "            print(f\"\\nFuzzy Inference Result for {n}\")\n",
    "            print(\"Predicted Occurrence: More chance\")\n",
    "\n",
    "        \n",
    "        occurrence.view(sim=occ_simulation)\n",
    "    else:\n",
    "        print(f\"wrong format for {n}.\")\n",
    "\n",
    "        "
   ]
  },
  {
   "cell_type": "code",
   "execution_count": null,
   "id": "f2c0d4ac",
   "metadata": {
    "scrolled": true
   },
   "outputs": [],
   "source": [
    "cyst_folder = \"med1\\cystadenoma cyst\"\n",
    "print(\"\\n Cystadenoma Cyst\")\n",
    "names=os.listdir(cyst_folder)\n",
    "\n",
    "for n in names:\n",
    "   \n",
    "    match=re.match(r'(\\d+),(\\d+),(\\d+),(\\d+)', n)\n",
    "    if match:\n",
    "        lengthvalue, widthvalue, shapevalue, intensityvalue=map(float, match.groups())\n",
    "        \n",
    "        # Set input values\n",
    "        occ_simulation.input['length'] = lengthvalue\n",
    "        occ_simulation.input['width'] = widthvalue\n",
    "        occ_simulation.input['shape'] = shapevalue\n",
    "        occ_simulation.input['intensity'] = intensityvalue\n",
    "        occ_simulation.compute()\n",
    "        occ_prediction = occ_simulation.output['occurrence']\n",
    "\n",
    "        if occ_prediction <=40:\n",
    "            print(f\"\\nFuzzy Inference Result for {n}\")\n",
    "            print(\"Predicted Occurrence: Less chance\")\n",
    "\n",
    "        elif occ_prediction <= 70:\n",
    "            print(f\"\\nFuzzy Inference Result for {n}\")\n",
    "            print(\"Predicted Occurrence: Medium chance\")\n",
    "\n",
    "        else:\n",
    "            print(f\"\\nFuzzy Inference Result for {n}\")\n",
    "            print(\"Predicted Occurrence: More chance\")\n",
    "\n",
    "        \n",
    "        occurrence.view(sim=occ_simulation)\n",
    "    else:\n",
    "        print(f\"wrong format for {n}.\")\n",
    "\n",
    "        "
   ]
  },
  {
   "cell_type": "code",
   "execution_count": null,
   "id": "2da316de",
   "metadata": {
    "scrolled": true
   },
   "outputs": [],
   "source": [
    "cyst_folder=\"med1\\dermoid cyst\"\n",
    "print(\"\\n Dermoid Cyst\")\n",
    "names=os.listdir(cyst_folder)\n",
    "\n",
    "for n in names:\n",
    "   \n",
    "    match = re.match(r'(\\d+),(\\d+),(\\d+),(\\d+)', n)\n",
    "    if match:\n",
    "        lengthvalue, widthvalue, shapevalue, intensityvalue=map(float, match.groups())\n",
    "        \n",
    "        # Set input values\n",
    "        occ_simulation.input['length']=lengthvalue\n",
    "        occ_simulation.input['width']=widthvalue\n",
    "        occ_simulation.input['shape']=shapevalue\n",
    "        occ_simulation.input['intensity']=intensityvalue\n",
    "        occ_simulation.compute()\n",
    "        occ_prediction = occ_simulation.output['occurrence']\n",
    "\n",
    "        if occ_prediction <=40:\n",
    "            print(f\"\\nFuzzy Inference Result for {n}\")\n",
    "            print(\"Predicted Occurrence: Less chance\")\n",
    "\n",
    "        elif occ_prediction <= 70:\n",
    "            print(f\"\\nFuzzy Inference Result for {n}\")\n",
    "            print(\"Predicted Occurrence: Medium chance\")\n",
    "\n",
    "        else:\n",
    "            print(f\"\\nFuzzy Inference Result for {n}\")\n",
    "            print(\"Predicted Occurrence: More chance\")\n",
    "\n",
    "        \n",
    "        occurrence.view(sim=occ_simulation)\n",
    "    else:\n",
    "        print(f\"wrong format for {n}.\")\n",
    "\n",
    "        "
   ]
  },
  {
   "cell_type": "code",
   "execution_count": null,
   "id": "31ebe16e",
   "metadata": {
    "scrolled": true
   },
   "outputs": [],
   "source": [
    "cyst_folder=\"med1\\Follicular cyst\"\n",
    "print(\"\\n Follicular Cyst\")\n",
    "names=os.listdir(cyst_folder)\n",
    "\n",
    "for n in names:\n",
    "   \n",
    "    match=re.match(r'(\\d+),(\\d+),(\\d+),(\\d+)', n)\n",
    "    if match:\n",
    "        lengthvalue, widthvalue, shapevalue, intensityvalue=map(float, match.groups())\n",
    "        \n",
    "        # Set input values\n",
    "        occ_simulation.input['length']=lengthvalue\n",
    "        occ_simulation.input['width']=widthvalue\n",
    "        occ_simulation.input['shape']=shapevalue\n",
    "        occ_simulation.input['intensity']=intensityvalue\n",
    "        occ_simulation.compute()\n",
    "        occ_prediction = occ_simulation.output['occurrence']\n",
    "\n",
    "        if occ_prediction <=40:\n",
    "            print(f\"\\nFuzzy Inference Result for {n}\")\n",
    "            print(\"Predicted Occurrence: Less chance\")\n",
    "\n",
    "        elif occ_prediction <= 70:\n",
    "            print(f\"\\nFuzzy Inference Result for {n}\")\n",
    "            print(\"Predicted Occurrence: Medium chance\")\n",
    "\n",
    "        else:\n",
    "            print(f\"\\nFuzzy Inference Result for {n}\")\n",
    "            print(\"Predicted Occurrence: More chance\")\n",
    "\n",
    "        \n",
    "        occurrence.view(sim=occ_simulation)\n",
    "    else:\n",
    "        print(f\"wrong format for {n}.\")\n",
    "\n",
    "        "
   ]
  },
  {
   "cell_type": "code",
   "execution_count": null,
   "id": "5bfd0101",
   "metadata": {
    "scrolled": true
   },
   "outputs": [],
   "source": [
    "\n",
    "cyst_dir=r\"med1\\normal cyst\"\n",
    "print(\"\\n Normal Cyst\")\n",
    "names=os.listdir(cyst_dir)\n",
    "\n",
    "for n in names:\n",
    "   \n",
    "    match = re.match(r'(\\d+),(\\d+),(\\d+),(\\d+)', n)\n",
    "    if match:\n",
    "        lengthvalue, widthvalue, shapevalue, intensityvalue=map(float, match.groups())\n",
    "        \n",
    "        # Set input values\n",
    "        occ_simulation.input['length']=lengthvalue\n",
    "        occ_simulation.input['width']=widthvalue\n",
    "        occ_simulation.input['shape']=shapevalue\n",
    "        occ_simulation.input['intensity']=intensityvalue\n",
    "        occ_simulation.compute()\n",
    "        occ_prediction=occ_simulation.output['occurrence']\n",
    "\n",
    "        if occ_prediction<=40:\n",
    "            print(f\"\\nFuzzy Inference Result for {n}\")\n",
    "            print(\"Predicted Occurrence: Less chance\")\n",
    "\n",
    "        elif occ_prediction <= 70:\n",
    "            print(f\"\\nFuzzy Inference Result for {n}\")\n",
    "            print(\"Predicted Occurrence: Medium chance\")\n",
    "\n",
    "        else:\n",
    "            print(f\"\\nFuzzy Inference Result for {n}\")\n",
    "            print(\"Predicted Occurrence: More chance\")\n",
    "\n",
    "        \n",
    "        occurrence.view(sim=occ_simulation)\n",
    "    else:\n",
    "        print(f\"wrong format for {n}.\")\n",
    "\n",
    "        \n",
    "        \n"
   ]
  },
  {
   "cell_type": "code",
   "execution_count": null,
   "id": "a17c36e7",
   "metadata": {
    "scrolled": true
   },
   "outputs": [],
   "source": [
    "\n",
    "cyst_dir=r\"med1\\pelvic infection\"\n",
    "print(\"\\n Pelvic infection\")\n",
    "names=os.listdir(cyst_dir)\n",
    "\n",
    "for n in names:\n",
    "   \n",
    "    match=re.match(r'(\\d+),(\\d+),(\\d+),(\\d+)', n)\n",
    "    if match:\n",
    "        lengthvalue, widthvalue, shapevalue, intensityvalue=map(float, match.groups())\n",
    "        \n",
    "        # Set input values\n",
    "        occ_simulation.input['length']=lengthvalue\n",
    "        occ_simulation.input['width']=widthvalue\n",
    "        occ_simulation.input['shape']=shapevalue\n",
    "        occ_simulation.input['intensity']=intensityvalue\n",
    "        occ_simulation.compute()\n",
    "        occ_prediction = occ_simulation.output['occurrence']\n",
    "\n",
    "        if occ_prediction <=40:\n",
    "            print(f\"\\nFuzzy Inference Result for {n}\")\n",
    "            print(\"Predicted Occurrence: Less chance\")\n",
    "\n",
    "        elif occ_prediction <= 70:\n",
    "            print(f\"\\nFuzzy Inference Result for {n}\")\n",
    "            print(\"Predicted Occurrence: Medium chance\")\n",
    "\n",
    "        else:\n",
    "            print(f\"\\nFuzzy Inference Result for {n}\")\n",
    "            print(\"Predicted Occurrence: More chance\")\n",
    "\n",
    "        \n",
    "        occurrence.view(sim=occ_simulation)\n",
    "    else:\n",
    "        print(f\"wrong format for {n}.\")\n",
    "\n",
    "        \n",
    "        \n"
   ]
  },
  {
   "cell_type": "code",
   "execution_count": null,
   "id": "c093aa57",
   "metadata": {
    "scrolled": true
   },
   "outputs": [],
   "source": [
    "\n",
    "cyst_dir=r\"med1\\polycystic ovaries\"\n",
    "print(\"\\n Polycystic ovaries\")\n",
    "names=os.listdir(cyst_dir)\n",
    "\n",
    "for n in names:\n",
    "   \n",
    "    match = re.match(r'(\\d+),(\\d+),(\\d+),(\\d+)', n)\n",
    "    if match:\n",
    "        lengthvalue, widthvalue, shapevalue, intensityvalue=map(float, match.groups())\n",
    "        \n",
    "        # Set input values\n",
    "        occ_simulation.input['length']=lengthvalue\n",
    "        occ_simulation.input['width']=widthvalue\n",
    "        occ_simulation.input['shape']=shapevalue\n",
    "        occ_simulation.input['intensity']=intensityvalue\n",
    "        occ_simulation.compute()\n",
    "        occ_prediction = occ_simulation.output['occurrence']\n",
    "\n",
    "        if occ_prediction <=40:\n",
    "            print(f\"\\nFuzzy Inference Result for {n}\")\n",
    "            print(\"Predicted Occurrence: Less chance\")\n",
    "\n",
    "        elif occ_prediction <= 70:\n",
    "            print(f\"\\nFuzzy Inference Result for {n}\")\n",
    "            print(\"Predicted Occurrence: Medium chance\")\n",
    "\n",
    "        else:\n",
    "            print(f\"\\nFuzzy Inference Result for {n}\")\n",
    "            print(\"Predicted Occurrence: More chance\")\n",
    "\n",
    "        \n",
    "        occurrence.view(sim=occ_simulation)\n",
    "    else:\n",
    "        print(f\"wrong format for {n}.\")\n",
    "\n",
    "        \n",
    "        \n"
   ]
  },
  {
   "cell_type": "code",
   "execution_count": null,
   "id": "494fc6e6",
   "metadata": {
    "scrolled": false
   },
   "outputs": [],
   "source": [
    "batch_size=8\n",
    "epochs=16\n",
    "\n",
    "from keras.callbacks import ReduceLROnPlateau\n",
    "p=3\n",
    "f=0.1\n",
    "red_lr= ReduceLROnPlateau(monitor='val_acc',patience=p,verbose=1,factor=f)"
   ]
  },
  {
   "cell_type": "code",
   "execution_count": null,
   "id": "11ddd71d",
   "metadata": {
    "scrolled": false
   },
   "outputs": [],
   "source": [
    "f=False\n",
    "t=True\n",
    "datagen = ImageDataGenerator(\n",
    "        featurewise_center=f, \n",
    "        samplewise_center=f,  \n",
    "        featurewise_std_normalization=f, \n",
    "        samplewise_std_normalization=f, \n",
    "        zca_whitening=f,  # apply ZCA whitening\n",
    "        rotation_range=12,\n",
    "        zoom_range = 0.3, \n",
    "        width_shift_range=0.3,\n",
    "        height_shift_range=0.3,  \n",
    "        horizontal_flip=t, \n",
    "        vertical_flip=f,\n",
    ")\n",
    "\n",
    "\n",
    "datagen.fit(x_train)"
   ]
  },
  {
   "cell_type": "code",
   "execution_count": null,
   "id": "c1b8a7b3",
   "metadata": {
    "scrolled": false
   },
   "outputs": [],
   "source": []
  },
  {
   "cell_type": "code",
   "execution_count": null,
   "id": "4b974904",
   "metadata": {
    "scrolled": false
   },
   "outputs": [],
   "source": [
    "History = model.fit_generator(\n",
    "    datagen.flow(x_train, y_train, batch_size=batch_size),\n",
    "    epochs=epochs, validation_data=(x_test, y_test),\n",
    "    verbose=1, steps_per_epoch=len(x_train) // batch_size,\n",
    "    validation_steps=len(x_test) // batch_size\n",
    ")"
   ]
  },
  {
   "cell_type": "code",
   "execution_count": null,
   "id": "54835802",
   "metadata": {
    "scrolled": false
   },
   "outputs": [],
   "source": [
    "pt.plot(History.history['loss'])\n",
    "pt.plot(History.history['val_loss'])\n",
    "pt.title('Model Loss')\n",
    "pt.ylabel('Loss')\n",
    "\n",
    "pt.xlabel('Epochs')\n",
    "pt.legend(['train', 'test'])\n",
    "pt.show()"
   ]
  },
  {
   "cell_type": "code",
   "execution_count": null,
   "id": "a85e58ff",
   "metadata": {
    "scrolled": false
   },
   "outputs": [],
   "source": [
    "pt.plot(History.history['accuracy'])\n",
    "pt.plot(History.history['val_accuracy'])\n",
    "pt.title('Model Accuracy')\n",
    "pt.ylabel('Accuracy')\n",
    "pt.xlabel('Epochs')\n",
    "pt.legend(['train', 'test'])\n",
    "pt.show()"
   ]
  },
  {
   "cell_type": "code",
   "execution_count": null,
   "id": "d4f0b61e",
   "metadata": {
    "scrolled": false
   },
   "outputs": [],
   "source": [
    "prediction=model.predict(x_test)\n",
    "predictdigits=np.argmax(prediction,axis=1)"
   ]
  },
  {
   "cell_type": "code",
   "execution_count": null,
   "id": "e7f8695c",
   "metadata": {
    "scrolled": false
   },
   "outputs": [],
   "source": [
    "# now storing some properly as well as misclassified indexes'.\n",
    "i=0\n",
    "pclass=[]\n",
    "mis_class=[]\n",
    "\n",
    "for i in range(len(y_test)):\n",
    "    if(np.argmax(y_test[i])==predictdigits[i]):\n",
    "        pclass.append(i)\n",
    "    if(len(pclass)==8):\n",
    "        break\n",
    "\n",
    "i=0\n",
    "for i in range(len(y_test)):\n",
    "    if(not np.argmax(y_test[i])==predictdigits[i]):\n",
    "        mis_class.append(i)\n",
    "    if(len(mis_class)==8):\n",
    "        break"
   ]
  },
  {
   "cell_type": "code",
   "execution_count": null,
   "id": "ed1c9863",
   "metadata": {
    "scrolled": false
   },
   "outputs": [],
   "source": [
    "import warnings\n",
    "warnings.filterwarnings('always')\n",
    "warnings.filterwarnings('ignore')\n",
    "\n",
    "count = 0\n",
    "figure, axis = pt.subplots(4, 2)\n",
    "figure.set_size_inches(15, 15)\n",
    "\n",
    "assert len(pclass) <= len(x_test), \"Length\"\n",
    "assert count < len(pclass), \"Count\"\n",
    "\n",
    "for i in range(4):\n",
    "    for j in range(2):\n",
    "        \n",
    "        if count >= len(pclass):\n",
    "            break\n",
    "\n",
    "        axis[i, j].imshow(x_test[pclass[count]])\n",
    "        \n",
    "        actual_cyst_index = np.argmax(y_test[pclass[count]])\n",
    "        actual_cyst = le.inverse_transform([actual_cyst_index])[0]\n",
    "        \n",
    "        predicted_cyst = le.inverse_transform([predictdigits[pclass[count]]])[0]\n",
    "\n",
    "        axis[i, j].set_title(\"Predicted Cyst: \" + predicted_cyst + \"\\n\" + \"Actual Cyst: \" + actual_cyst)\n",
    "        pt.tight_layout()\n",
    "        count += 1\n",
    "\n",
    "# Show the plot\n",
    "pt.show()\n"
   ]
  },
  {
   "cell_type": "code",
   "execution_count": null,
   "id": "f75ab4f5",
   "metadata": {
    "scrolled": false
   },
   "outputs": [],
   "source": [
    "import warnings\n",
    "warnings.filterwarnings('always')\n",
    "warnings.filterwarnings('ignore')\n",
    "\n",
    "count = 0\n",
    "fig, ax = pt.subplots(2, 2)\n",
    "fig.set_size_inches(6, 6)\n",
    "\n",
    "# Check the length of mis_class\n",
    "assert len(mis_class) <= len(x_test) \n",
    "assert len(mis_class) <= len(y_test) \n",
    "assert len(mis_class) <= len(predictdigits) \n",
    "# Check the initial value of count\n",
    "assert count < len(mis_class) \n",
    "\n",
    "for i in range(2):  # Adjust the loop bounds here\n",
    "    for j in range(2):\n",
    "        # Check if count exceeds the length of mis_class\n",
    "        if count >= len(mis_class):\n",
    "            break\n",
    "\n",
    "        ax[i, j].imshow(x_test[mis_class[count]])\n",
    "\n",
    "        actual_cyst_index=np.argmax(y_test[mis_class[count]])\n",
    "        actual_cyst=le.inverse_transform([actual_cyst_index])[0]\n",
    "\n",
    "        predicted_cyst=le.inverse_transform([predictdigits[mis_class[count]]])[0]\n",
    "\n",
    "        ax[i, j].set_title(\"Predicted Cyst: \" + predicted_cyst + \"\\n\" + \"Actual Cyst: \" + actual_cyst)\n",
    "        pt.tight_layout()\n",
    "        count += 1\n",
    "\n",
    "# Show the plot\n",
    "pt.show()\n"
   ]
  },
  {
   "cell_type": "code",
   "execution_count": null,
   "id": "d0329c1d",
   "metadata": {
    "scrolled": false
   },
   "outputs": [],
   "source": [
    "from sklearn.metrics import confusion_matrix\n",
    "import seaborn as s\n",
    "\n",
    "y_pred=model.predict(x_test)\n",
    "y_pred_classes=np.argmax(y_pred, axis=1)\n",
    "y_true_classes=np.argmax(y_test, axis=1)\n",
    "\n",
    "cm=confusion_matrix(y_true_classes, y_pred_classes)\n",
    "classes=['cancer cyst','chocolate cyst','cystadenoma cyst', 'dermoid cyst', 'follicular cyst','normal cyst','pelvic infection','polycystic ovaries']\n",
    "\n",
    "# Plot the confusion matrix\n",
    "pt.figure(figsize=(6, 6))\n",
    "s.heatmap(cm, annot=True, fmt='d', cmap='PuRd', xticklabels=classes, yticklabels=classes)\n",
    "pt.title('Confusion Matrix')\n",
    "pt.xlabel('Predicted Labels')\n",
    "pt.ylabel('True Labels')\n",
    "pt.show()\n"
   ]
  },
  {
   "cell_type": "code",
   "execution_count": null,
   "id": "460ff027",
   "metadata": {
    "scrolled": false
   },
   "outputs": [],
   "source": [
    "from sklearn.metrics import classification_report, accuracy_score\n",
    "\n",
    "names = le.classes_\n",
    "y_pred = model.predict(x_test)\n",
    "ypredictedclasses=np.argmax(y_pred, axis=1)\n",
    "ytrueclasses = np.argmax(y_test, axis=1)\n",
    "\n",
    "# Calculate accuracy\n",
    "acc= accuracy_score(y_true_classes, y_pred_classes)\n",
    "report=classification_report(ytrueclasses, ypredictedclasses, labels=np.arange(len(names)), target_names=names)\n",
    "print(\"\\nClassification Report:\\n\", report)\n",
    "print(\"\\nThe accuracy of the model is {:.0%}\\n\".format(acc))"
   ]
  },
  {
   "cell_type": "code",
   "execution_count": null,
   "id": "174fc7d2",
   "metadata": {
    "scrolled": false
   },
   "outputs": [],
   "source": [
    "categories=[ \"cancer cyst\", \"chocolate cyst\", \"cystadenoma cyst\",\n",
    "    \"dermoid cyst\", \"follicular cyst\", \"normal cyst\",\n",
    "    \"pelvic infection\", \"polycystic ovaries\"]\n",
    "\n",
    "precision=[0.80, 1.00, 1.00, 1.00, 1.00, 1.00, 1.00, 1.00]\n",
    "x=np.arange(len(categories))\n",
    "fig, ax=plt.subplots(figsize=(4, 4))\n",
    "bars=ax.bar(x, precision, color='blue')\n",
    "ax.set_xlabel('Class')\n",
    "ax.set_ylabel('Precision')\n",
    "ax.set_title('Precision by Category')\n",
    "ax.set_xticks(x)\n",
    "ax.grid(True, which='both', axis='y', linestyle='--', linewidth=0.5)\n",
    "ax.set_xticklabels(categories, rotation=90, ha=\"right\")\n",
    "plt.tight_layout()\n",
    "plt.show()\n",
    "\n",
    "\n",
    "recall=[1.00, 1.00, 0.71, 1.00, 1.00, 1.00, 1.00, 1.00]\n",
    "x=np.arange(len(categories))\n",
    "fig, ax=plt.subplots(figsize=(4, 4))\n",
    "bars=ax.bar(x, recall, color='brown')\n",
    "ax.set_xlabel('Class')\n",
    "ax.set_ylabel('Recall')\n",
    "ax.set_title('Recall by Category')\n",
    "ax.set_xticks(x)\n",
    "ax.set_xticklabels(categories, rotation=90, ha=\"right\")\n",
    "ax.grid(True, which='both', axis='y', linestyle='--', linewidth=0.5)\n",
    "plt.tight_layout()\n",
    "plt.show()\n",
    "\n",
    "f1_score=[0.89, 1.00, 0.83, 1.00, 1.00, 1.00, 1.00, 1.00]\n",
    "x=np.arange(len(categories))\n",
    "fig, ax=plt.subplots(figsize=(4, 4))\n",
    "bars=ax.bar(x, f1_score, color='green')\n",
    "ax.set_xlabel('Class')\n",
    "ax.set_ylabel('F1-Score')\n",
    "ax.set_title('F1-Score by Category')\n",
    "ax.set_xticks(x)\n",
    "ax.set_xticklabels(categories, rotation=90, ha=\"right\")\n",
    "ax.grid(True, which='both', axis='y', linestyle='--', linewidth=0.5)\n",
    "plt.tight_layout()\n",
    "plt.show()\n"
   ]
  },
  {
   "cell_type": "code",
   "execution_count": null,
   "id": "284d166b",
   "metadata": {},
   "outputs": [],
   "source": []
  }
 ],
 "metadata": {
  "kernelspec": {
   "display_name": "Python 3 (ipykernel)",
   "language": "python",
   "name": "python3"
  },
  "language_info": {
   "codemirror_mode": {
    "name": "ipython",
    "version": 3
   },
   "file_extension": ".py",
   "mimetype": "text/x-python",
   "name": "python",
   "nbconvert_exporter": "python",
   "pygments_lexer": "ipython3",
   "version": "3.10.13"
  }
 },
 "nbformat": 4,
 "nbformat_minor": 5
}
